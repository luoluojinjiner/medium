{
 "cells": [
  {
   "cell_type": "markdown",
   "metadata": {},
   "source": [
    "# Soving a Social Distancing Problem with Genetic Algorithms\n",
    "\n",
    "Blog post with more explanation can be found at: \n",
    "https://medium.com/@st3llasia/solving-a-social-distancing-problem-using-genetic-algorithms-e5f1709c87a1\n",
    "\n",
    "## The problem\n",
    "\n",
    "- 20 guests from 11 families are invited to join a barbecue (replace barbecue with wedding, Thanksgiving dinner, whatever party depending on the time of the year)\n",
    "- You can place them on 6 tables having 6 seats each, where two consecutive seats are one-meter apart from each other (we consider tables are circular)\n",
    "- Each table must contain guests from at least two different families\n",
    "- Each table must not have more than two guests from the same family\n",
    "- Guests from different families must be seated at least two meters apart from each other\n",
    "\n",
    "## Solution using GA"
   ]
  },
  {
   "cell_type": "code",
   "execution_count": 1,
   "metadata": {},
   "outputs": [],
   "source": [
    "%matplotlib inline\n",
    "import matplotlib.pyplot as plt\n",
    "import random\n",
    "import numpy as np\n",
    "from collections import Counter, deque\n",
    "from deap import base, creator, tools, algorithms"
   ]
  },
  {
   "cell_type": "markdown",
   "metadata": {},
   "source": [
    "Data was provided as a csv file, repeated here for completeness. The first column is the guest's name while the second column tells us which family (s)he belongs to. The first step is to parse this file. For now, let's just save this information into a dictionary whose keys are the names and values are the families:"
   ]
  },
  {
   "cell_type": "code",
   "execution_count": 2,
   "metadata": {},
   "outputs": [
    {
     "data": {
      "text/plain": [
       "{'Host': 'A',\n",
       " 'Jane': 'B',\n",
       " 'Jun': 'C',\n",
       " 'Oliver': 'C',\n",
       " 'Mia': 'D',\n",
       " 'Sophie': 'D',\n",
       " 'Milan': 'D',\n",
       " 'Jeremy': 'D',\n",
       " 'Avery': 'E',\n",
       " 'Hugo': 'F',\n",
       " 'Mohamed': 'G',\n",
       " 'Maria': 'H',\n",
       " 'Aarav': 'H',\n",
       " 'Rowan': 'I',\n",
       " 'Ren': 'I',\n",
       " 'Ali': 'J',\n",
       " 'Hannah': 'J',\n",
       " 'Fatima': 'K',\n",
       " 'Marc': 'K',\n",
       " 'Isabella': 'K'}"
      ]
     },
     "execution_count": 2,
     "metadata": {},
     "output_type": "execute_result"
    }
   ],
   "source": [
    "data = \"\"\"Host,A\n",
    "Jane,B\n",
    "Jun,C\n",
    "Oliver,C\n",
    "Mia,D\n",
    "Sophie,D\n",
    "Milan,D\n",
    "Jeremy,D\n",
    "Avery,E\n",
    "Hugo,F\n",
    "Mohamed,G\n",
    "Maria,H\n",
    "Aarav,H\n",
    "Rowan,I\n",
    "Ren,I\n",
    "Ali,J\n",
    "Hannah,J\n",
    "Fatima,K\n",
    "Marc,K\n",
    "Isabella,K\n",
    "\"\"\"\n",
    "\n",
    "guests = dict(\n",
    "    d.split(\",\") for d in data.split(\"\\n\") if d\n",
    ")\n",
    "guests"
   ]
  },
  {
   "cell_type": "code",
   "execution_count": 3,
   "metadata": {},
   "outputs": [],
   "source": [
    "# problem parameters\n",
    "GUESTS = guests\n",
    "NUM_TABLES = 6\n",
    "NUM_SEATS_PER_TABLE = 6"
   ]
  },
  {
   "cell_type": "markdown",
   "metadata": {},
   "source": [
    "The core of the algorithm lies in the way we compute the `fitness`, ie an indication to how close a solution is to the 'best' solution. An implementation counting how many 'violations' to the problem rules a solution contains is implemented below. The lower the fitness, the better the solution and the higher its chances to be kept for the next generation.\n",
    "Note that, to ensute that each seat is assigned only once, a very high fitness is used for solutions that do not meet this criteria (high = bad)."
   ]
  },
  {
   "cell_type": "code",
   "execution_count": 4,
   "metadata": {},
   "outputs": [],
   "source": [
    "def seats_to_2d_tables(solution):\n",
    "    \"\"\"Transforms a solution vector of length len(GUESTS) into a 2d matrix\n",
    "    with size (NUM_TABLES, NUM_SEATS_PER_TABLE)\n",
    "    Element ij of the matrix is equal to the family of the assigned person, \n",
    "    or -1 if no guest is assigned this seat.\n",
    "    \"\"\"\n",
    "    # initialize the matrix with all elements = -1\n",
    "    tables = [\n",
    "        [-1 for j in range(NUM_SEATS_PER_TABLE)]\n",
    "        for i in range(NUM_TABLES)\n",
    "    ]\n",
    "    guest_names = list(GUESTS.keys())\n",
    "    for guest_id, table_seat in enumerate(solution):\n",
    "        table, seat = divmod(table_seat, NUM_SEATS_PER_TABLE)\n",
    "        guest_name = guest_names[guest_id]\n",
    "        tables[table][seat] = GUESTS[guest_name]\n",
    "    return tables\n",
    "\n",
    "\n",
    "def get_fitness(solution, verbose=False):\n",
    "    \"\"\"\n",
    "    Calculates the number of violations in the given solution\n",
    "    :param solution: a list of indices corresponding to the positions of the queens in each row\n",
    "    :param bool verbose: if True, prints some intermediate results to understand the fitness decomposition\n",
    "    :return: a tuple containing the calculated value\n",
    "    :rtype: tuple\n",
    "    \"\"\"\n",
    "\n",
    "    c = Counter(solution)\n",
    "    if any( v > 1 for v in c.values()):\n",
    "        return (100, )\n",
    "\n",
    "    # we fill a 2d array representing the tables\n",
    "    tables = seats_to_2d_tables(solution)\n",
    "\n",
    "    violations = 0\n",
    "    for table in tables:\n",
    "        if verbose:\n",
    "            print(\"=\"* 10, table)\n",
    "        v = 0  # violations for this table\n",
    "\n",
    "        # each table must contain guests from at least two families\n",
    "        c = Counter([k for k in table if k != -1])  # count number of families per table\n",
    "        if len(c) < 2:  # allow for empty tables (extra rule)\n",
    "            v += 1\n",
    "\n",
    "        # each table must not have more than 2 guests from the same family\n",
    "        s = sum(v > 2 for k, v in c.items())\n",
    "        v += s\n",
    "\n",
    "        if verbose:\n",
    "            print(c)\n",
    "            print(\"v1 =\", v)\n",
    "            print(\"s =\", s)\n",
    "\n",
    "        # people from different families must be at least 2 seats apart\n",
    "        td = deque(table) \n",
    "        tdr = deque(table)  # table rotated\n",
    "        tdr.rotate()\n",
    "        for seat, prev_seat in zip(td, tdr):\n",
    "            if seat == -1 or prev_seat == -1:\n",
    "                continue\n",
    "            if seat != prev_seat:\n",
    "                if verbose:\n",
    "                    print(seat, prev_seat)\n",
    "                v += 1\n",
    "        if verbose:\n",
    "            print(\"v_f =\", v)\n",
    "        violations += v\n",
    "    return (violations, )\n",
    "    \n",
    "# solution = [20, 32, 24, 25, 34, 10, 14, 11, 1, 28, 30, 3, 4, 8, 7, 21, 12, 18, 16, 23]\n",
    "# print(\"Number of violations = \", get_fitness(solution, verbose=True))"
   ]
  },
  {
   "cell_type": "markdown",
   "metadata": {},
   "source": [
    "Next, we can implement the GA using the `deap` package. You will find below each of the steps described in the blog post mentioned above:\n",
    "\n",
    "- Initial population generation, from a random selection of NB_GUESTS seats (between 0 and NUM_TABLES * NUM_SEATS_PER_TABLE)\n",
    "- Fitness calculation using the above defined function\n",
    "- Selection, cross-over and mutation methods definition (more about that in https://deap.readthedocs.io/en/master/tutorials/basic/part2.html):\n",
    "    - Selection: [*tournament*](https://deap.readthedocs.io/en/master/api/tools.html#deap.tools.selTournament): solutions are compared two by two and the one with the lowest fitness is kept for the next generation [Wikipedia link](https://en.wikipedia.org/wiki/Tournament_selection)\n",
    "    - Cross-over: [*cxTwoPoint*](https://deap.readthedocs.io/en/master/api/tools.html#deap.tools.cxTwoPoint):\n",
    "     \n",
    "         ![Two points cross over illustration from Wikipedia](https://upload.wikimedia.org/wikipedia/commons/c/cd/TwoPointCrossover.svg)\n",
    "  \n",
    "    - Mutation: [*mutShuffleIndexes*](https://deap.readthedocs.io/en/master/api/tools.html#deap.tools.mutShuffleIndexes): shuffle the indices in each solution with a probability P_MUTATION"
   ]
  },
  {
   "cell_type": "code",
   "execution_count": 5,
   "metadata": {},
   "outputs": [],
   "source": [
    "# the code in this cell is heavily inspired from:\n",
    "# https://github.com/PacktPublishing/Hands-On-Genetic-Algorithms-with-Python/blob/master/Chapter05/01-solve-n-queens.py\n",
    "\n",
    "# set the random seed for repeatable results\n",
    "RANDOM_SEED = 1234\n",
    "random.seed(RANDOM_SEED)\n",
    "\n",
    "\n",
    "# Genetic Algorithm parameters\n",
    "POPULATION_SIZE = 300\n",
    "MAX_GENERATIONS = 100\n",
    "P_CROSSOVER = 0.9  # probability for crossover\n",
    "P_MUTATION = 0.4   # probability for mutating an individual\n",
    "\n",
    "HALL_OF_FAME_SIZE = 10\n",
    "\n",
    "\n",
    "# start algorithm configuration\n",
    "toolbox = base.Toolbox()\n",
    "\n",
    "# define a single objective, minimizing fitness strategy\n",
    "creator.create(\"FitnessMin\", base.Fitness, weights=(-1.0,))\n",
    "\n",
    "# create the Individual class (list of integers)\n",
    "creator.create(\"Individual\", list, typecode='i', fitness=creator.FitnessMin)\n",
    "\n",
    "# create an operator that generates randomly shuffled indices\n",
    "toolbox.register(\"randomOrder\", lambda : random.sample(range(NUM_TABLES * NUM_SEATS_PER_TABLE), k=len(GUESTS)))\n",
    "# create the individual creation operator to fill up an Individual instance with shuffled indices\n",
    "toolbox.register(\"individualCreator\", tools.initIterate, creator.Individual, toolbox.randomOrder)\n",
    "# create the population creation operator to generate a list of individuals\n",
    "toolbox.register(\"populationCreator\", tools.initRepeat, list, toolbox.individualCreator)\n",
    "\n",
    "# fitness calculation - compute the total distance of the list of cities represented by indices\n",
    "toolbox.register(\"evaluate\", get_fitness)\n",
    "# Genetic operators\n",
    "toolbox.register(\"select\", tools.selTournament, tournsize=10)\n",
    "toolbox.register(\"mate\", tools.cxTwoPoint)\n",
    "toolbox.register(\"mutate\", tools.mutShuffleIndexes, indpb=1.0/len(GUESTS))\n",
    "\n",
    "\n",
    "# create initial population (generation 0):\n",
    "population = toolbox.populationCreator(n=POPULATION_SIZE)"
   ]
  },
  {
   "cell_type": "markdown",
   "metadata": {},
   "source": [
    "Finally, we have prepared our algorithm, we can run it, saving some statistics for each generation (min, average and median value of the fitness function) and the \"Hall of Fame\", meaning the best performing individuals, regardless of their generation:"
   ]
  },
  {
   "cell_type": "code",
   "execution_count": 6,
   "metadata": {
    "scrolled": false
   },
   "outputs": [
    {
     "name": "stdout",
     "output_type": "stream",
     "text": [
      "0 :  0.0  ->  [10, 31, 19, 20, 23, 35, 22, 5, 6, 13, 3, 17, 33, 8, 1, 28, 27, 24, 25, 15]\n",
      "1 :  0.0  ->  [10, 35, 19, 20, 31, 23, 22, 5, 6, 13, 3, 17, 33, 8, 1, 28, 27, 24, 25, 15]\n",
      "2 :  0.0  ->  [6, 31, 19, 20, 35, 23, 22, 5, 10, 1, 3, 17, 33, 8, 13, 28, 27, 24, 25, 15]\n",
      "3 :  0.0  ->  [10, 31, 19, 20, 35, 23, 22, 33, 6, 13, 3, 17, 5, 8, 1, 28, 27, 24, 25, 15]\n",
      "4 :  0.0  ->  [10, 31, 19, 20, 35, 23, 22, 5, 6, 3, 13, 17, 33, 8, 1, 28, 27, 24, 25, 15]\n",
      "5 :  0.0  ->  [10, 31, 19, 20, 35, 23, 22, 5, 6, 13, 3, 17, 33, 8, 1, 27, 28, 24, 25, 15]\n",
      "6 :  0.0  ->  [33, 31, 19, 20, 35, 23, 22, 5, 6, 13, 3, 17, 1, 8, 15, 28, 27, 24, 25, 10]\n",
      "7 :  0.0  ->  [10, 31, 19, 20, 35, 23, 22, 5, 15, 13, 3, 17, 33, 8, 1, 28, 27, 24, 25, 6]\n",
      "8 :  0.0  ->  [10, 31, 19, 20, 35, 22, 23, 5, 6, 13, 3, 17, 33, 8, 1, 28, 27, 24, 25, 15]\n",
      "9 :  0.0  ->  [10, 31, 19, 20, 35, 23, 22, 5, 6, 13, 3, 17, 33, 8, 1, 28, 27, 24, 25, 15]\n"
     ]
    }
   ],
   "source": [
    "# prepare the statistics object:\n",
    "stats = tools.Statistics(lambda ind: ind.fitness.values)\n",
    "stats.register(\"min\", np.min)\n",
    "stats.register(\"avg\", np.mean)\n",
    "stats.register(\"med\", np.median)\n",
    "\n",
    "# define the hall-of-fame object to keep 'best' candidates, regardless of the generation they belong to\n",
    "hof = tools.HallOfFame(HALL_OF_FAME_SIZE)\n",
    "\n",
    "population, logbook = algorithms.eaSimple(population, toolbox, cxpb=P_CROSSOVER, mutpb=P_MUTATION,\n",
    "                                          ngen=MAX_GENERATIONS, stats=stats, halloffame=hof, verbose=False)\n",
    "\n",
    "# print hall of fame members info:\n",
    "for i in range(HALL_OF_FAME_SIZE):\n",
    "    print(i, \": \", hof.items[i].fitness.values[0], \" -> \", hof.items[i])"
   ]
  },
  {
   "cell_type": "markdown",
   "metadata": {},
   "source": [
    "Let's first plot the evolution of the fitness function over generations, out of curiosity:"
   ]
  },
  {
   "cell_type": "code",
   "execution_count": 7,
   "metadata": {},
   "outputs": [
    {
     "data": {
      "image/png": "[encoded data removed]",
      "text/plain": [
       "<Figure size 864x576 with 1 Axes>"
      ]
     },
     "metadata": {
      "needs_background": "light"
     },
     "output_type": "display_data"
    }
   ],
   "source": [
    "min_fitness_values, avg_fitness_values = logbook.select(\"min\", \"med\")\n",
    "\n",
    "plt.figure(figsize=(12, 8))\n",
    "plt.plot(min_fitness_values, color='red', label=\"Min\")\n",
    "plt.plot(avg_fitness_values, color='green', label=\"Median\")\n",
    "\n",
    "plt.xlabel(\"Generation\")\n",
    "plt.ylabel(\"Fitness function value\")\n",
    "plt.ylim(0, 10)\n",
    "plt.legend()\n",
    "plt.grid()\n",
    "plt.show()"
   ]
  },
  {
   "cell_type": "markdown",
   "metadata": {},
   "source": [
    "Finally, with the help of the `print_solution` function, we can display the result, meaning the guest disposition that satisfies all the constraints. \n",
    "\n",
    "As you can see in the Hall of Fame, the algorithms has found several solutions matching the criteria (fitness=0, meaning no violations from the rules), so we can display a few of them with the same function:"
   ]
  },
  {
   "cell_type": "code",
   "execution_count": 8,
   "metadata": {},
   "outputs": [
    {
     "name": "stdout",
     "output_type": "stream",
     "text": [
      "           -1      Ren (I)           -1  Mohamed (G)           -1   Jeremy (D)\n",
      "    Avery (E)           -1    Rowan (I)           -1     Host (A)           -1\n",
      "           -1     Hugo (F)           -1 Isabella (K)           -1    Maria (H)\n",
      "           -1      Jun (C)   Oliver (C)           -1    Milan (D)      Mia (D)\n",
      "   Fatima (K)     Marc (K)           -1   Hannah (J)      Ali (J)           -1\n",
      "           -1     Jane (B)           -1    Aarav (H)           -1   Sophie (D)\n"
     ]
    }
   ],
   "source": [
    "def print_solution(solution):\n",
    "    \"\"\"Nicely prints the guests with their table and seat position.\n",
    "\n",
    "    :param list solution: list of seats for each guest (len(solution) = len(GUESTS))\n",
    "    :rtype: None\n",
    "    \"\"\"\n",
    "    tables = [\n",
    "        [-1 for j in range(NUM_SEATS_PER_TABLE)]\n",
    "        for i in range(NUM_TABLES)\n",
    "    ]\n",
    "    guest_names = list(GUESTS.keys())\n",
    "    for guest_id, table_seat in enumerate(solution):\n",
    "        table, seat = divmod(table_seat, NUM_SEATS_PER_TABLE)\n",
    "        guest_name = guest_names[guest_id]\n",
    "        guest_family = GUESTS[guest_name]\n",
    "        tables[table][seat] = f\"{guest_name} ({guest_family})\"\n",
    "\n",
    "    for t in tables:\n",
    "        for s in t:\n",
    "            print(\"{:>13}\".format(s), end=\"\")\n",
    "        print()\n",
    "\n",
    "print_solution(hof.items[0])"
   ]
  },
  {
   "cell_type": "code",
   "execution_count": 9,
   "metadata": {},
   "outputs": [
    {
     "name": "stdout",
     "output_type": "stream",
     "text": [
      "           -1      Ren (I)           -1  Mohamed (G)           -1   Jeremy (D)\n",
      "    Avery (E)           -1    Rowan (I)           -1     Host (A)           -1\n",
      "           -1     Hugo (F)           -1 Isabella (K)           -1    Maria (H)\n",
      "           -1      Jun (C)   Oliver (C)           -1    Milan (D)   Sophie (D)\n",
      "   Fatima (K)     Marc (K)           -1   Hannah (J)      Ali (J)           -1\n",
      "           -1      Mia (D)           -1    Aarav (H)           -1     Jane (B)\n"
     ]
    }
   ],
   "source": [
    "print_solution(hof.items[1])"
   ]
  },
  {
   "cell_type": "code",
   "execution_count": 10,
   "metadata": {},
   "outputs": [
    {
     "name": "stdout",
     "output_type": "stream",
     "text": [
      "           -1     Hugo (F)           -1  Mohamed (G)           -1   Jeremy (D)\n",
      "     Host (A)           -1    Rowan (I)           -1    Avery (E)           -1\n",
      "           -1      Ren (I)           -1 Isabella (K)           -1    Maria (H)\n",
      "           -1      Jun (C)   Oliver (C)           -1    Milan (D)   Sophie (D)\n",
      "   Fatima (K)     Marc (K)           -1   Hannah (J)      Ali (J)           -1\n",
      "           -1     Jane (B)           -1    Aarav (H)           -1      Mia (D)\n"
     ]
    }
   ],
   "source": [
    "print_solution(hof.items[2])"
   ]
  },
  {
   "cell_type": "code",
   "execution_count": null,
   "metadata": {},
   "outputs": [],
   "source": []
  }
 ],
 "metadata": {
  "kernelspec": {
   "display_name": "Python 3",
   "language": "python",
   "name": "python3"
  },
  "language_info": {
   "codemirror_mode": {
    "name": "ipython",
    "version": 3
   },
   "file_extension": ".py",
   "mimetype": "text/x-python",
   "name": "python",
   "nbconvert_exporter": "python",
   "pygments_lexer": "ipython3",
   "version": "3.8.2"
  }
 },
 "nbformat": 4,
 "nbformat_minor": 4
}
